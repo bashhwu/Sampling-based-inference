{
 "cells": [
  {
   "cell_type": "markdown",
   "metadata": {},
   "source": [
    "# Steady state distribution\n"
   ]
  },
  {
   "cell_type": "markdown",
   "metadata": {},
   "source": [
    "To fully understand how Markov Chain Monte Carlo (MCMC) method is used to approximate a posterior distribution, you need to know first how MCs work and how to exploit some facts about MCs to approximate the target distribution.  \n",
    "\n",
    "In this file I aim at providing a intuitive explanation of the long-term behaviour of irreducible and aperiodic Markov chains. Also, I present a simple example to show how to compute invariant distribution analytically or by simulation. \n",
    "\n",
    "\n",
    "**What is Markov process?**\n",
    "\n",
    "It is a stochastic process (family of random variables X(t)) where the future of the process depends only on the present state i.e the entire history is summerized in the present state. The stochastic process consists of two key sets: index set and state set. The latter contains the possible values that the random variables take.  Let us assume we have n+1 indices t1<t2<t3......tn+1 and n+1 states (X1, X2,....Xn+1), \n",
    "\n",
    "P[X(tn+1)=xn+1| X(tn)=xn,......X(t1)=x1]= P[X(tn+1)=xn+1]\n",
    "\n",
    "**What is Markov chain?**\n",
    "\n",
    "it is a Markov process with distcrete state space.\n",
    "\n",
    "**How is MC defined?**\n",
    "\n",
    "It is defined by the conditional probabilities of going from one state to another. These probabilities form a  transition probability matrix.  The conditional probability Pij is the probability of going from state i to state j. The size of the matrix is determined by the number of states. For instance if the MC is finite with 5 states, the size of the transition probability matrix is 5X5.\n",
    "\n",
    "There are two properties of the MC we should consider here before we go and talk about the steady state distribution. These are irreducibility and aperiodicity which are explained in the following lecture note: \n",
    "https://docs.google.com/viewer?a=v&pid=sites&srcid=ZGVmYXVsdGRvbWFpbnx0aXNocmVlbmJhc2hhcnxneDozNGJhYWIyOWY3ODBmNDJh\n",
    "\n",
    "\n",
    "Let us demonstrate that using a simple 2-state MC with transition probability matrix given by: \n",
    "\n",
    "$P=\\begin{bmatrix}\n",
    "      P_{00} & P_{01}  \\\\\n",
    "      P_{10} & P_{11}  \n",
    "      \\end{bmatrix}= \\begin{bmatrix}\n",
    "      0.8 & 0.2  \\\\\n",
    "      0.6 & 0.4  \n",
    "      \\end{bmatrix}$\n",
    "\n",
    "\n"
   ]
  },
  {
   "cell_type": "code",
   "execution_count": 13,
   "metadata": {},
   "outputs": [
    {
     "data": {
      "image/jpeg": "[encoded data removed]",
      "text/plain": [
       "<IPython.core.display.Image object>"
      ]
     },
     "execution_count": 13,
     "metadata": {},
     "output_type": "execute_result"
    }
   ],
   "source": [
    "Image(filename='s.jpeg')"
   ]
  },
  {
   "cell_type": "markdown",
   "metadata": {},
   "source": [
    "We can see from the state transition diagram that the MC is irreducible as each state can communicate with other states. It is also aperiodic as $P_{00}=0.8>0$ or $P_{11}=0.4>0$ i.e a self loop is formed. \n",
    "\n",
    "\n",
    "** Steady State Distribution** \n",
    "\n",
    "The limiting/steady state/invariant distribution is the probability that the system is in a state when n (number of simulation steps) goes to infinity or to a large number in practise. let us first inspect the short term behaviour of the MC i.e for small n.\n",
    " \n"
   ]
  },
  {
   "cell_type": "markdown",
   "metadata": {},
   "source": [
    "The state (unconditional) distribution at step n=1 describes the probability of the system in states 0 and 1 after one step. The distribution is based on the previous distribution (n=0) and the transition probabilities. \n",
    "\n",
    "$\\pi_{0}^{(1)}= \\pi_{0}^{(0)} P_{00} + \\pi_{1}^{(0)} P_{10} $\n",
    "\n",
    "$\\pi_{1}^{(1)}= \\pi_{0}^{(0)} P_{01} + \\pi_{1}^{(0)} P_{11} $\n",
    "\n",
    "\n",
    "This can be computed using matrix multiplication: \n",
    "\n",
    "$ [\\pi_{0}^{(1)} , \\pi_{1}^{(1)}]= [\\pi_{0}^{(0)} , \\pi_{0}^{(1)}] P $\n",
    "\n",
    "$ \\pi_{0}^{(1)} + \\pi_{1}^{(1)} =1 $"
   ]
  },
  {
   "cell_type": "markdown",
   "metadata": {},
   "source": [
    "What about computing the state distribution after n steps? \n",
    "Using Chapman–Kolmogorov Equations, we raise P to the power of n. \n",
    "- let us find $ P^{6}$ and $ P^{7}$ and compute the state distribution at n=6 and n=7. \n",
    "\n",
    "\n",
    "$ P^{6}=\\begin{bmatrix}\n",
    "      0.75 & 0.25  \\\\\n",
    "      0.75 & 0.25  \n",
    "      \\end{bmatrix}$\n",
    "\n",
    "$ P^{7}=\\begin{bmatrix}\n",
    "      0.75 & 0.25  \\\\\n",
    "      0.75 & 0.25  \n",
    "      \\end{bmatrix}$\n",
    "      \n",
    "As n becomes large (steady state) , $ P^{n}$ becomes independent of the initial state i.e after 6 steps the prob. of going from state 0 to state 0  =  the prob. of going from state 1 to state 0 = 0.75. \n",
    "\n",
    "Having fixed conditional probability makes the state distribution invariant as shown below. "
   ]
  },
  {
   "cell_type": "markdown",
   "metadata": {},
   "source": [
    "It is time to compute $[\\pi_{0}^{(6)} , \\pi_{0}^{(6)}]$ which is the state distribution after 6 steps\n",
    "\n",
    "$ [\\pi_{0}^{(6)} , \\pi_{1}^{(6)}]= [\\pi_{0}^{(0)} , \\pi_{1}^{(0)}] P^{6} $\n",
    "\n",
    "\n",
    "$ \\pi_{0}^{(6)}=  \\pi_{0}^{(0)} P_{00}^{(6)} + \\pi_{1}^{(0)} P_{10}^{(6)}$\n",
    "\n",
    "\n",
    "Because $P_{00}^{(6)}=P_{10}^{(6)}=0.75$ and $ \\pi_{0}^{(1)} + \\pi_{1}^{(1)} =1 $ as mentioned above, \n",
    "\n",
    "$ \\pi_{0}^{(6)}= 0.75 [\\pi_{0}^{(0)}  + \\pi_{1}^{(0)}]= 0.75 = P_{00}^{(6)}=P_{10}^{(6)}$\n",
    "\n",
    "$ \\pi_{1}^{(6)}= 0.25 [\\pi_{0}^{(0)}  + \\pi_{1}^{(0)}]= 0.25=P_{01}^{(6)}=P_{11}^{(6)}$\n",
    "\n",
    "\n",
    "As you can see, if you are given an irreducible and aperiodic MC i.e P is known, and asked to compute the steady state distribution, it is not necessary to know the initial state distributions or at least you can set the initial state distribution to whatever values such as random numbers. All you need to do is rasing P to a sufficiently large number n and then head to the fact that conditonal probabilities after a large number of steps approaches the steady state distribution. \n"
   ]
  },
  {
   "cell_type": "markdown",
   "metadata": {},
   "source": [
    "Since $ \\pi^{(6)} = \\pi^{(7)} =..........= \\pi^{(10000)}$, we end up with the following equations. \n",
    "\n",
    "$\\pi^{(7)}=[\\pi_{0}^{(7)} ,  \\pi_{1}^{(7)} ]$\n",
    "\n",
    "$ \\pi^{(7)} = \\pi^{(6)} P$    \n",
    "$ \\pi^{(8)} = \\pi^{(7)} P$\n",
    "\n",
    "$ \\pi^{(\\infty)} = \\pi^{(\\infty-1)} P$\n",
    "\n",
    "\n",
    "$\\pi=\\pi P$   is satisified\n",
    "\n",
    "This equation enables us to compute the steady state distribution using linear algebra if P is known. In the given example we have two unknown and three equations after you consider $ \\pi_{0}^{(1)} + \\pi_{1}^{(1)} =1 $. "
   ]
  },
  {
   "cell_type": "markdown",
   "metadata": {},
   "source": [
    "## 1- Analytically\n",
    "lim Pxy(n)=P(y)  as n goes to inf. i.e after large number of steps. To compute Pxy after n steps we rais P to the power of n. \n"
   ]
  },
  {
   "cell_type": "code",
   "execution_count": null,
   "metadata": {},
   "outputs": [],
   "source": []
  },
  {
   "cell_type": "code",
   "execution_count": 20,
   "metadata": {},
   "outputs": [
    {
     "data": {
      "text/plain": [
       "array([[ 0.75,  0.25],\n",
       "       [ 0.75,  0.25]])"
      ]
     },
     "execution_count": 20,
     "metadata": {},
     "output_type": "execute_result"
    }
   ],
   "source": [
    "x=np.array([[0.8, 0.2], [0.6, 0.4]])\n",
    "d=x\n",
    "\n",
    "for n in range(100):\n",
    "    x=d@x\n",
    "x"
   ]
  },
  {
   "cell_type": "markdown",
   "metadata": {},
   "source": [
    "In the steady state the probability that the system in state 0 =0.75. it is independent of the initial state. "
   ]
  },
  {
   "cell_type": "markdown",
   "metadata": {},
   "source": [
    "## 2- Simulation\n",
    "The conditional probability can be modelled by binomial ditribution. Since the invariant distribution is equal to conditional distribution when n goes to inf, we draw a large number of samples (say 10000) from the binomial distribution (transition Probability).  The probability that the system in state 0 is the number of 0's divided by 10000.\n"
   ]
  },
  {
   "cell_type": "code",
   "execution_count": 17,
   "metadata": {},
   "outputs": [],
   "source": [
    "import numpy as np\n",
    "import scipy.stats as st\n",
    "from IPython.display import Image"
   ]
  },
  {
   "cell_type": "code",
   "execution_count": 19,
   "metadata": {},
   "outputs": [
    {
     "name": "stdout",
     "output_type": "stream",
     "text": [
      "The steady state distribution= [0.7438, 0.2562]\n"
     ]
    }
   ],
   "source": [
    "# Initil state: state=0\n",
    "state=0\n",
    "N=10000\n",
    "counter_0=0\n",
    "counter_1=0\n",
    "\n",
    "for n in range(N):\n",
    "    if state==0:\n",
    "        counter_0+=1\n",
    "        t=st.binom.rvs(1,0.2)\n",
    "    else:\n",
    "        counter_1+=1\n",
    "        t=st.binom.rvs(1,0.4)\n",
    "    state=t\n",
    "\n",
    "print('The steady state distribution=', [counter_0/N, counter_1/N])"
   ]
  },
  {
   "cell_type": "markdown",
   "metadata": {},
   "source": [
    "The invariant distribution computed using both methods are similar. "
   ]
  },
  {
   "cell_type": "markdown",
   "metadata": {},
   "source": [
    "The simulation method is used in MCMC. "
   ]
  },
  {
   "cell_type": "code",
   "execution_count": null,
   "metadata": {},
   "outputs": [],
   "source": [
    "Now it is time to move to part II. "
   ]
  }
 ],
 "metadata": {
  "kernelspec": {
   "display_name": "Python 3",
   "language": "python",
   "name": "python3"
  },
  "language_info": {
   "codemirror_mode": {
    "name": "ipython",
    "version": 3
   },
   "file_extension": ".py",
   "mimetype": "text/x-python",
   "name": "python",
   "nbconvert_exporter": "python",
   "pygments_lexer": "ipython3",
   "version": "3.6.4"
  }
 },
 "nbformat": 4,
 "nbformat_minor": 2
}
